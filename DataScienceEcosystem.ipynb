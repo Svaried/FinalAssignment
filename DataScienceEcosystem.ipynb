{
 "cells": [
  {
   "cell_type": "markdown",
   "id": "769bd050",
   "metadata": {},
   "source": [
    "# Data Science Tools and Ecosystem"
   ]
  },
  {
   "cell_type": "markdown",
   "id": "5ae4a4fd",
   "metadata": {},
   "source": [
    "In this notebook, Data Science tools and ecosystem are summarized."
   ]
  },
  {
   "cell_type": "markdown",
   "id": "05777701",
   "metadata": {},
   "source": [
    "**Objectives:**\n",
    "    \n",
    "    -To present a summary of our learnings about using Jupyter Notebooks. Few are as listed below.\n",
    "    -To create an Ordered and Unordered list of items\n",
    "    -To create a Header\n",
    "    -To present arithmetic expressions\n",
    "    -To create table\n",
    "    "
   ]
  },
  {
   "cell_type": "markdown",
   "id": "fec84eed",
   "metadata": {},
   "source": [
    "Some of the Popular languages that Data Scientists use are :"
   ]
  },
  {
   "cell_type": "markdown",
   "id": "d482af93",
   "metadata": {},
   "source": [
    "1. Python\n",
    "2. R\n",
    "3. SQL\n",
    "4. Scala\n",
    "5. Java\n",
    "6. C++\n",
    "7. Julia"
   ]
  },
  {
   "cell_type": "markdown",
   "id": "11ae6868",
   "metadata": {},
   "source": [
    "Some of the commonly used libraries used by Data Scientists include:"
   ]
  },
  {
   "cell_type": "markdown",
   "id": "f659a5a2",
   "metadata": {},
   "source": [
    "1. NumPy\n",
    "2. Pandas\n",
    "3. Matplotlib\n",
    "4. Keras\n",
    "5. Scikit learn\n",
    "6. Tensor Flow\n",
    "7. PyTorch\n",
    "8. ApacheSpark\n",
    "9. ggplot2\n",
    "10. Seahorn\n"
   ]
  },
  {
   "cell_type": "markdown",
   "id": "2dbcd2ca",
   "metadata": {},
   "source": [
    "|Data Science Tools|\n",
    "|-------------------|\n",
    "|Jupyter|\n",
    "|Apache Zeppelin|\n",
    "|R Studio|\n",
    "|Spyder|"
   ]
  },
  {
   "cell_type": "markdown",
   "id": "a6f80366",
   "metadata": {},
   "source": [
    "### Below are a few examples of evaluating arithmetic expressions in Python"
   ]
  },
  {
   "cell_type": "code",
   "execution_count": 17,
   "id": "c9d7b7da",
   "metadata": {},
   "outputs": [
    {
     "data": {
      "text/plain": [
       "17"
      ]
     },
     "execution_count": 17,
     "metadata": {},
     "output_type": "execute_result"
    }
   ],
   "source": [
    "# This is a simple arithmetic expression to multiply then add integers.\n",
    "\n",
    "(3*4)+5"
   ]
  },
  {
   "cell_type": "code",
   "execution_count": 18,
   "id": "f573dc34",
   "metadata": {},
   "outputs": [
    {
     "name": "stdout",
     "output_type": "stream",
     "text": [
      "3.3333333333333335\n"
     ]
    }
   ],
   "source": [
    "# This will convert 200 minutes to hours by dividing by 60\n",
    "\n",
    "minutes = 200\n",
    "hours = minutes/60\n",
    "\n",
    "print (hours)"
   ]
  },
  {
   "cell_type": "markdown",
   "id": "521d68e2",
   "metadata": {},
   "source": [
    "## Author ##\n",
    "\n",
    "Shiny Varied Ajimon"
   ]
  },
  {
   "cell_type": "code",
   "execution_count": null,
   "id": "9ecd41f0",
   "metadata": {},
   "outputs": [],
   "source": []
  }
 ],
 "metadata": {
  "kernelspec": {
   "display_name": "Python 3 (ipykernel)",
   "language": "python",
   "name": "python3"
  },
  "language_info": {
   "codemirror_mode": {
    "name": "ipython",
    "version": 3
   },
   "file_extension": ".py",
   "mimetype": "text/x-python",
   "name": "python",
   "nbconvert_exporter": "python",
   "pygments_lexer": "ipython3",
   "version": "3.10.10"
  }
 },
 "nbformat": 4,
 "nbformat_minor": 5
}
